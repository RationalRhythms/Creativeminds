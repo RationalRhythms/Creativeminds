{
  "nbformat": 4,
  "nbformat_minor": 0,
  "metadata": {
    "colab": {
      "provenance": [],
      "authorship_tag": "ABX9TyNW7mNQFP00rU6o02xGFuld",
      "include_colab_link": true
    },
    "kernelspec": {
      "name": "python3",
      "display_name": "Python 3"
    },
    "language_info": {
      "name": "python"
    }
  },
  "cells": [
    {
      "cell_type": "markdown",
      "metadata": {
        "id": "view-in-github",
        "colab_type": "text"
      },
      "source": [
        "<a href=\"https://colab.research.google.com/github/RationalRhythms/Creativeminds/blob/main/DHCD.ipynb\" target=\"_parent\"><img src=\"https://colab.research.google.com/assets/colab-badge.svg\" alt=\"Open In Colab\"/></a>"
      ]
    },
    {
      "cell_type": "code",
      "execution_count": 73,
      "metadata": {
        "colab": {
          "base_uri": "https://localhost:8080/"
        },
        "id": "9tuBcMb4pIY5",
        "outputId": "79fda449-e474-47f7-fb1f-a8e51a819707"
      },
      "outputs": [
        {
          "output_type": "stream",
          "name": "stdout",
          "text": [
            "--2025-06-08 09:43:57--  https://github.com/Prasanna1991/DHCD_Dataset/archive/refs/heads/master.zip\n",
            "Resolving github.com (github.com)... 20.27.177.113\n",
            "Connecting to github.com (github.com)|20.27.177.113|:443... connected.\n",
            "HTTP request sent, awaiting response... 302 Found\n",
            "Location: https://codeload.github.com/Prasanna1991/DHCD_Dataset/zip/refs/heads/master [following]\n",
            "--2025-06-08 09:43:57--  https://codeload.github.com/Prasanna1991/DHCD_Dataset/zip/refs/heads/master\n",
            "Resolving codeload.github.com (codeload.github.com)... 20.27.177.114\n",
            "Connecting to codeload.github.com (codeload.github.com)|20.27.177.114|:443... connected.\n",
            "HTTP request sent, awaiting response... 200 OK\n",
            "Length: unspecified [application/zip]\n",
            "Saving to: ‘master.zip.2’\n",
            "\n",
            "master.zip.2            [         <=>        ]  35.56M  20.9MB/s    in 1.7s    \n",
            "\n",
            "2025-06-08 09:44:03 (20.9 MB/s) - ‘master.zip.2’ saved [37290492]\n",
            "\n",
            "replace /content/DHCD/DHCD_Dataset-master/README.md? [y]es, [n]o, [A]ll, [N]one, [r]ename: y\n",
            "replace /content/DHCD/DHCD_Dataset-master/dataloader.py? [y]es, [n]o, [A]ll, [N]one, [r]ename: y\n",
            "replace /content/DHCD/DHCD_Dataset-master/dataset/dataset.npz? [y]es, [n]o, [A]ll, [N]one, [r]ename: y\n",
            "replace /content/DHCD/DHCD_Dataset-master/sample/sample.png? [y]es, [n]o, [A]ll, [N]one, [r]ename: y\n",
            "replace /content/DHCD/DHCD_Dataset-master/test.py? [y]es, [n]o, [A]ll, [N]one, [r]ename: y\n",
            "replace /content/DHCD/DHCD_Dataset-master/utils.py? [y]es, [n]o, [A]ll, [N]one, [r]ename: y\n",
            "replace /content/DHCD/DHCD_Dataset-master/viewer.ipynb? [y]es, [n]o, [A]ll, [N]one, [r]ename: y\n"
          ]
        }
      ],
      "source": [
        "!wget https://github.com/Prasanna1991/DHCD_Dataset/archive/refs/heads/master.zip\n",
        "!unzip -q master.zip -d /content/DHCD"
      ]
    },
    {
      "cell_type": "code",
      "source": [
        "import os\n",
        "\n",
        "dataset_dir = '/content/DHCD/DHCD_Dataset-master/dataset'\n",
        "print(\"Contents of dataset directory:\", os.listdir(dataset_dir))\n"
      ],
      "metadata": {
        "colab": {
          "base_uri": "https://localhost:8080/"
        },
        "id": "4uOtEAPns6_Y",
        "outputId": "c2d98286-218e-4dc3-e22e-7b84fb89eb2d"
      },
      "execution_count": 74,
      "outputs": [
        {
          "output_type": "stream",
          "name": "stdout",
          "text": [
            "Contents of dataset directory: ['dataset.npz']\n"
          ]
        }
      ]
    },
    {
      "cell_type": "code",
      "source": [
        "import numpy as np\n",
        "\n",
        "data = np.load('/content/DHCD/DHCD_Dataset-master/dataset/dataset.npz')\n",
        "print(data.files)  # Display the keys in the .npz file\n"
      ],
      "metadata": {
        "colab": {
          "base_uri": "https://localhost:8080/"
        },
        "id": "4e9stApCtA7f",
        "outputId": "b53490b3-9a3a-48cc-9d71-8e2d04cb3159"
      },
      "execution_count": 75,
      "outputs": [
        {
          "output_type": "stream",
          "name": "stdout",
          "text": [
            "['arr_1', 'arr_0', 'arr_3', 'arr_2']\n"
          ]
        }
      ]
    },
    {
      "cell_type": "code",
      "source": [
        "for key in data.files:\n",
        "    print(f\"{key} shape: {data[key].shape}\")\n"
      ],
      "metadata": {
        "colab": {
          "base_uri": "https://localhost:8080/"
        },
        "id": "meSBavontVMg",
        "outputId": "7f5f4453-15fc-4069-d598-12f606fd4ae8"
      },
      "execution_count": 76,
      "outputs": [
        {
          "output_type": "stream",
          "name": "stdout",
          "text": [
            "arr_1 shape: (78200,)\n",
            "arr_0 shape: (78200, 32, 32)\n",
            "arr_3 shape: (13800,)\n",
            "arr_2 shape: (13800, 32, 32)\n"
          ]
        }
      ]
    },
    {
      "cell_type": "code",
      "source": [
        "X_train = data['arr_0']\n",
        "y_train = data['arr_1']\n",
        "X_test = data['arr_2']\n",
        "y_test = data['arr_3']\n",
        "\n",
        "\n",
        "X_train = X_train.astype('float32') / 255.0\n",
        "X_test = X_test.astype('float32') / 255.0"
      ],
      "metadata": {
        "id": "ps7MZcvAtLl1"
      },
      "execution_count": 77,
      "outputs": []
    },
    {
      "cell_type": "code",
      "source": [
        "indices = np.arange(len(X_train))\n",
        "np.random.shuffle(indices)\n",
        "\n",
        "X_train = X_train[indices]\n",
        "y_train = y_train[indices]"
      ],
      "metadata": {
        "id": "pVvtZJwl63lv"
      },
      "execution_count": 78,
      "outputs": []
    },
    {
      "cell_type": "code",
      "source": [
        "import tensorflow as tf\n",
        "from tensorflow import keras\n",
        "import matplotlib.pyplot as plt\n",
        "import numpy as np"
      ],
      "metadata": {
        "id": "pwAx5YJjtois"
      },
      "execution_count": 79,
      "outputs": []
    },
    {
      "cell_type": "code",
      "source": [
        "\n",
        "\n",
        "num_classes = len(np.unique(y_train))\n",
        "print(f\"Number of classes: {num_classes}\")\n"
      ],
      "metadata": {
        "colab": {
          "base_uri": "https://localhost:8080/"
        },
        "id": "T1FY94rIv69P",
        "outputId": "6f71cfcf-299b-445b-a2be-dcdb98f57a97"
      },
      "execution_count": 80,
      "outputs": [
        {
          "output_type": "stream",
          "name": "stdout",
          "text": [
            "Number of classes: 46\n"
          ]
        }
      ]
    },
    {
      "cell_type": "code",
      "source": [
        "print(y_train.dtype)\n",
        "print(np.min(y_train), np.max(y_train))  # should be between 0 and 45"
      ],
      "metadata": {
        "colab": {
          "base_uri": "https://localhost:8080/"
        },
        "id": "nOk8EDoxxAQC",
        "outputId": "a9515fbd-c046-4b6a-a2b0-3cbec11f50eb"
      },
      "execution_count": 81,
      "outputs": [
        {
          "output_type": "stream",
          "name": "stdout",
          "text": [
            "int64\n",
            "1 46\n"
          ]
        }
      ]
    },
    {
      "cell_type": "code",
      "source": [
        "y_train = y_train - 1\n",
        "y_test = y_test - 1\n"
      ],
      "metadata": {
        "id": "N5by4p7fxNny"
      },
      "execution_count": 82,
      "outputs": []
    },
    {
      "cell_type": "code",
      "source": [
        "plt.matshow(X_test[1001])"
      ],
      "metadata": {
        "colab": {
          "base_uri": "https://localhost:8080/",
          "height": 453
        },
        "id": "klQ6tqBmuYAp",
        "outputId": "479af600-3dd5-4f41-806b-2d988f024312"
      },
      "execution_count": 83,
      "outputs": [
        {
          "output_type": "execute_result",
          "data": {
            "text/plain": [
              "<matplotlib.image.AxesImage at 0x7d5aac69a490>"
            ]
          },
          "metadata": {},
          "execution_count": 83
        },
        {
          "output_type": "display_data",
          "data": {
            "text/plain": [
              "<Figure size 480x480 with 1 Axes>"
            ],
            "image/png": "[encoded data removed]"
          },
          "metadata": {}
        }
      ]
    },
    {
      "cell_type": "code",
      "source": [
        "model = keras.Sequential([\n",
        "   keras.layers.Input(shape=(32, 32)),\n",
        "    keras.layers.Flatten(),\n",
        "    keras.layers.Dense(100, activation='leaky_relu'),\n",
        "    keras.layers.Dense(60, activation='relu'),\n",
        "    keras.layers.Dense(46, activation='softmax')\n",
        "])\n",
        "\n",
        "model.compile(optimizer='adam',loss='sparse_categorical_crossentropy',metrics=['accuracy'])\n",
        "\n",
        "\n",
        "model.fit(X_train,y_train, epochs=15)"
      ],
      "metadata": {
        "colab": {
          "base_uri": "https://localhost:8080/"
        },
        "id": "nNFwo2JlvdkO",
        "outputId": "00dbf683-aae4-4f7c-862b-d4fedb6f833e"
      },
      "execution_count": 107,
      "outputs": [
        {
          "output_type": "stream",
          "name": "stdout",
          "text": [
            "Epoch 1/15\n",
            "\u001b[1m2444/2444\u001b[0m \u001b[32m━━━━━━━━━━━━━━━━━━━━\u001b[0m\u001b[37m\u001b[0m \u001b[1m10s\u001b[0m 4ms/step - accuracy: 0.5540 - loss: 1.6773\n",
            "Epoch 2/15\n",
            "\u001b[1m2444/2444\u001b[0m \u001b[32m━━━━━━━━━━━━━━━━━━━━\u001b[0m\u001b[37m\u001b[0m \u001b[1m9s\u001b[0m 4ms/step - accuracy: 0.8242 - loss: 0.6133\n",
            "Epoch 3/15\n",
            "\u001b[1m2444/2444\u001b[0m \u001b[32m━━━━━━━━━━━━━━━━━━━━\u001b[0m\u001b[37m\u001b[0m \u001b[1m10s\u001b[0m 3ms/step - accuracy: 0.8723 - loss: 0.4380\n",
            "Epoch 4/15\n",
            "\u001b[1m2444/2444\u001b[0m \u001b[32m━━━━━━━━━━━━━━━━━━━━\u001b[0m\u001b[37m\u001b[0m \u001b[1m11s\u001b[0m 4ms/step - accuracy: 0.8937 - loss: 0.3562\n",
            "Epoch 5/15\n",
            "\u001b[1m2444/2444\u001b[0m \u001b[32m━━━━━━━━━━━━━━━━━━━━\u001b[0m\u001b[37m\u001b[0m \u001b[1m9s\u001b[0m 4ms/step - accuracy: 0.9094 - loss: 0.3064\n",
            "Epoch 6/15\n",
            "\u001b[1m2444/2444\u001b[0m \u001b[32m━━━━━━━━━━━━━━━━━━━━\u001b[0m\u001b[37m\u001b[0m \u001b[1m10s\u001b[0m 4ms/step - accuracy: 0.9193 - loss: 0.2707\n",
            "Epoch 7/15\n",
            "\u001b[1m2444/2444\u001b[0m \u001b[32m━━━━━━━━━━━━━━━━━━━━\u001b[0m\u001b[37m\u001b[0m \u001b[1m8s\u001b[0m 3ms/step - accuracy: 0.9250 - loss: 0.2425\n",
            "Epoch 8/15\n",
            "\u001b[1m2444/2444\u001b[0m \u001b[32m━━━━━━━━━━━━━━━━━━━━\u001b[0m\u001b[37m\u001b[0m \u001b[1m9s\u001b[0m 4ms/step - accuracy: 0.9362 - loss: 0.2114\n",
            "Epoch 9/15\n",
            "\u001b[1m2444/2444\u001b[0m \u001b[32m━━━━━━━━━━━━━━━━━━━━\u001b[0m\u001b[37m\u001b[0m \u001b[1m10s\u001b[0m 4ms/step - accuracy: 0.9384 - loss: 0.1996\n",
            "Epoch 10/15\n",
            "\u001b[1m2444/2444\u001b[0m \u001b[32m━━━━━━━━━━━━━━━━━━━━\u001b[0m\u001b[37m\u001b[0m \u001b[1m10s\u001b[0m 4ms/step - accuracy: 0.9429 - loss: 0.1830\n",
            "Epoch 11/15\n",
            "\u001b[1m2444/2444\u001b[0m \u001b[32m━━━━━━━━━━━━━━━━━━━━\u001b[0m\u001b[37m\u001b[0m \u001b[1m8s\u001b[0m 3ms/step - accuracy: 0.9460 - loss: 0.1730\n",
            "Epoch 12/15\n",
            "\u001b[1m2444/2444\u001b[0m \u001b[32m━━━━━━━━━━━━━━━━━━━━\u001b[0m\u001b[37m\u001b[0m \u001b[1m11s\u001b[0m 4ms/step - accuracy: 0.9501 - loss: 0.1605\n",
            "Epoch 13/15\n",
            "\u001b[1m2444/2444\u001b[0m \u001b[32m━━━━━━━━━━━━━━━━━━━━\u001b[0m\u001b[37m\u001b[0m \u001b[1m11s\u001b[0m 4ms/step - accuracy: 0.9522 - loss: 0.1523\n",
            "Epoch 14/15\n",
            "\u001b[1m2444/2444\u001b[0m \u001b[32m━━━━━━━━━━━━━━━━━━━━\u001b[0m\u001b[37m\u001b[0m \u001b[1m9s\u001b[0m 4ms/step - accuracy: 0.9541 - loss: 0.1439\n",
            "Epoch 15/15\n",
            "\u001b[1m2444/2444\u001b[0m \u001b[32m━━━━━━━━━━━━━━━━━━━━\u001b[0m\u001b[37m\u001b[0m \u001b[1m10s\u001b[0m 4ms/step - accuracy: 0.9566 - loss: 0.1370\n"
          ]
        },
        {
          "output_type": "execute_result",
          "data": {
            "text/plain": [
              "<keras.src.callbacks.history.History at 0x7d5b41d9d5d0>"
            ]
          },
          "metadata": {},
          "execution_count": 107
        }
      ]
    },
    {
      "cell_type": "code",
      "source": [
        "model.evaluate(X_test,y_test)"
      ],
      "metadata": {
        "colab": {
          "base_uri": "https://localhost:8080/"
        },
        "id": "Os-nmMT7yOzi",
        "outputId": "8de54a61-da0a-41c8-df94-1a85e47fac2b"
      },
      "execution_count": 108,
      "outputs": [
        {
          "output_type": "stream",
          "name": "stdout",
          "text": [
            "\u001b[1m432/432\u001b[0m \u001b[32m━━━━━━━━━━━━━━━━━━━━\u001b[0m\u001b[37m\u001b[0m \u001b[1m1s\u001b[0m 2ms/step - accuracy: 0.9016 - loss: 0.4331\n"
          ]
        },
        {
          "output_type": "execute_result",
          "data": {
            "text/plain": [
              "[0.410705029964447, 0.9053623080253601]"
            ]
          },
          "metadata": {},
          "execution_count": 108
        }
      ]
    },
    {
      "cell_type": "code",
      "source": [
        "y_predicted=model.predict(X_test)"
      ],
      "metadata": {
        "colab": {
          "base_uri": "https://localhost:8080/"
        },
        "id": "SmJAP4TayV1o",
        "outputId": "ff4a7150-57fd-4593-b54f-f58acffdb712"
      },
      "execution_count": 86,
      "outputs": [
        {
          "output_type": "stream",
          "name": "stdout",
          "text": [
            "\u001b[1m432/432\u001b[0m \u001b[32m━━━━━━━━━━━━━━━━━━━━\u001b[0m\u001b[37m\u001b[0m \u001b[1m1s\u001b[0m 1ms/step\n"
          ]
        }
      ]
    },
    {
      "cell_type": "code",
      "source": [
        "y_predicted_labels=[np.argmax(i) for i in y_predicted]\n",
        "y_predicted_labels[:10]"
      ],
      "metadata": {
        "colab": {
          "base_uri": "https://localhost:8080/"
        },
        "id": "epalXk3qyanU",
        "outputId": "f2e30cb3-881f-4f73-84e8-20739b277201"
      },
      "execution_count": 87,
      "outputs": [
        {
          "output_type": "execute_result",
          "data": {
            "text/plain": [
              "[np.int64(38),\n",
              " np.int64(38),\n",
              " np.int64(38),\n",
              " np.int64(38),\n",
              " np.int64(38),\n",
              " np.int64(38),\n",
              " np.int64(38),\n",
              " np.int64(38),\n",
              " np.int64(38),\n",
              " np.int64(38)]"
            ]
          },
          "metadata": {},
          "execution_count": 87
        }
      ]
    },
    {
      "cell_type": "code",
      "source": [
        "devanagari_chars = [\n",
        "    'क', 'ख', 'ग', 'घ', 'ङ', 'च', 'छ', 'ज', 'झ', 'ञ',\n",
        "    'ट', 'ठ', 'ड', 'ढ', 'ण', 'त', 'थ', 'द', 'ध', 'न',\n",
        "    'प', 'फ', 'ब', 'भ', 'म', 'य', 'र', 'ल', 'व', 'श',\n",
        "    'ष', 'स', 'ह', 'क्ष', 'त्र', 'ज्ञ'\n",
        "]\n"
      ],
      "metadata": {
        "id": "N0ChR3FazQzU"
      },
      "execution_count": 88,
      "outputs": []
    },
    {
      "cell_type": "code",
      "source": [
        "devanagari_digits = ['०', '१', '२', '३', '४', '५', '६', '७', '८', '९']"
      ],
      "metadata": {
        "id": "EzxwQaJC0rSw"
      },
      "execution_count": 89,
      "outputs": []
    },
    {
      "cell_type": "code",
      "source": [
        "class_names = devanagari_chars + devanagari_digits\n"
      ],
      "metadata": {
        "id": "tzpUERkQ0tZw"
      },
      "execution_count": 90,
      "outputs": []
    },
    {
      "cell_type": "code",
      "source": [
        "!apt-get install fonts-lohit-deva\n",
        "\n"
      ],
      "metadata": {
        "colab": {
          "base_uri": "https://localhost:8080/"
        },
        "id": "dodYNNUA0wB2",
        "outputId": "61fb5f49-fc57-4d16-bce6-71a15985e95e"
      },
      "execution_count": 91,
      "outputs": [
        {
          "output_type": "stream",
          "name": "stdout",
          "text": [
            "Reading package lists... Done\n",
            "Building dependency tree... Done\n",
            "Reading state information... Done\n",
            "fonts-lohit-deva is already the newest version (2.95.4-4).\n",
            "0 upgraded, 0 newly installed, 0 to remove and 35 not upgraded.\n"
          ]
        }
      ]
    },
    {
      "cell_type": "code",
      "source": [
        "!rm -rf ~/.cache/matplotlib"
      ],
      "metadata": {
        "id": "ZZBBmtbN3kry"
      },
      "execution_count": 92,
      "outputs": []
    },
    {
      "cell_type": "code",
      "source": [
        "!fc-list | grep -i lohit\n"
      ],
      "metadata": {
        "colab": {
          "base_uri": "https://localhost:8080/"
        },
        "id": "i3Z7fmun474G",
        "outputId": "c1651540-2398-4e90-c439-f0b4275562e8"
      },
      "execution_count": 93,
      "outputs": [
        {
          "output_type": "stream",
          "name": "stdout",
          "text": [
            "/usr/share/fonts/truetype/lohit-devanagari/Lohit-Devanagari.ttf: Lohit Devanagari:style=Regular\n"
          ]
        }
      ]
    },
    {
      "cell_type": "code",
      "source": [
        "from matplotlib import font_manager\n",
        "\n",
        "font_path = '/usr/share/fonts/truetype/lohit-devanagari/Lohit-Devanagari.ttf'\n",
        "font_manager.fontManager.addfont(font_path)\n",
        "\n",
        "print([f.name for f in font_manager.fontManager.ttflist if 'Lohit' in f.name or 'Devanagari' in f.name])"
      ],
      "metadata": {
        "colab": {
          "base_uri": "https://localhost:8080/"
        },
        "id": "0We9xikU3y-3",
        "outputId": "87b8fbd9-7f45-4576-e38a-650c30338417"
      },
      "execution_count": 94,
      "outputs": [
        {
          "output_type": "stream",
          "name": "stdout",
          "text": [
            "['Lohit Devanagari', 'Lohit Devanagari']\n"
          ]
        }
      ]
    },
    {
      "cell_type": "code",
      "source": [
        "from matplotlib import rcParams\n",
        "\n",
        "rcParams['font.family'] = 'Lohit Devanagari'"
      ],
      "metadata": {
        "id": "4hfquHVv3ApN"
      },
      "execution_count": 95,
      "outputs": []
    },
    {
      "cell_type": "code",
      "source": [
        "\n",
        "plt.figure(figsize=(12, 6))\n",
        "for i in range(9):\n",
        "    plt.subplot(3, 3, i + 1)\n",
        "    img = X_test[1000*i].squeeze()  # Ensure image is in grayscale\n",
        "    plt.imshow(img, cmap='gray')\n",
        "\n",
        "    pred = class_names[y_predicted_labels[i*1000]]\n",
        "    true = class_names[y_test[i*1000]]\n",
        "\n",
        "\n",
        "    plt.title(f\"Pred: {pred}\\nTrue: {true}\", fontsize=12)\n",
        "    plt.axis('off')\n",
        "\n",
        "plt.tight_layout()\n",
        "plt.show()"
      ],
      "metadata": {
        "colab": {
          "base_uri": "https://localhost:8080/",
          "height": 556
        },
        "id": "aaJCZi2I3FVN",
        "outputId": "07091d9c-d44f-4171-c562-9272ea93ca68"
      },
      "execution_count": 109,
      "outputs": [
        {
          "output_type": "display_data",
          "data": {
            "text/plain": [
              "<Figure size 1200x600 with 9 Axes>"
            ],
            "image/png": "[encoded data removed]"
          },
          "metadata": {}
        }
      ]
    }
  ]
}